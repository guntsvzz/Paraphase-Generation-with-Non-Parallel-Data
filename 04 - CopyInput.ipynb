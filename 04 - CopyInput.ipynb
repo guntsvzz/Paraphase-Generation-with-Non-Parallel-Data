{
 "cells": [
  {
   "cell_type": "code",
   "execution_count": 2,
   "metadata": {},
   "outputs": [
    {
     "name": "stdout",
     "output_type": "stream",
     "text": [
      "==== loading data ====\n"
     ]
    },
    {
     "data": {
      "text/plain": [
       "<KeysViewHDF5 ['sents1', 'sents2', 'synts1', 'synts2']>"
      ]
     },
     "execution_count": 2,
     "metadata": {},
     "output_type": "execute_result"
    }
   ],
   "source": [
    "import h5py, os\n",
    "print(\"==== loading data ====\")\n",
    "mrpc_set = h5py.File(os.path.join('./test_data/test_data_mrpc.h5'), 'r')\n",
    "mrpc_set.keys()"
   ]
  },
  {
   "cell_type": "code",
   "execution_count": 3,
   "metadata": {},
   "outputs": [
    {
     "name": "stdout",
     "output_type": "stream",
     "text": [
      "==== loading data ====\n"
     ]
    },
    {
     "data": {
      "text/plain": [
       "<KeysViewHDF5 ['sents1', 'sents2', 'synts1', 'synts2']>"
      ]
     },
     "execution_count": 3,
     "metadata": {},
     "output_type": "execute_result"
    }
   ],
   "source": [
    "import h5py, os\n",
    "print(\"==== loading data ====\")\n",
    "qq_set = h5py.File(os.path.join('./test_data/test_data_quora.h5'), 'r')\n",
    "qq_set.keys()"
   ]
  },
  {
   "cell_type": "code",
   "execution_count": 5,
   "metadata": {},
   "outputs": [
    {
     "data": {
      "text/plain": [
       "<HDF5 dataset \"sents1\": shape (1920,), type \"|O\">"
      ]
     },
     "execution_count": 5,
     "metadata": {},
     "output_type": "execute_result"
    }
   ],
   "source": [
    "mrpc_set['sents1'], mrpc_set['sents2']"
   ]
  },
  {
   "cell_type": "code",
   "execution_count": null,
   "metadata": {},
   "outputs": [],
   "source": [
    "qq_set['sents1'], qq_set['sents2']"
   ]
  },
  {
   "cell_type": "markdown",
   "metadata": {},
   "source": [
    "## 8. Metric"
   ]
  },
  {
   "cell_type": "code",
   "execution_count": 10,
   "metadata": {},
   "outputs": [],
   "source": [
    "from tqdm import tqdm\n",
    "import numpy as np\n",
    "from nltk.translate.bleu_score import sentence_bleu\n",
    "\n",
    "def cal_bleu(hypothesis, reference, n):\n",
    "    hypothesis = hypothesis.strip().split(' ')\n",
    "    reference = reference.strip().split(' ')\n",
    "\n",
    "    if n == 0:\n",
    "        return sentence_bleu([reference], hypothesis)\n",
    "    elif n == 1:\n",
    "        weights = (1, 0, 0, 0)\n",
    "    elif n == 2:\n",
    "        weights = (0, 1, 0, 0)\n",
    "    elif n == 3:\n",
    "        weights = (0, 0, 1, 0)\n",
    "    elif n == 4:\n",
    "        weights = (0, 0, 0, 1)\n",
    "\n",
    "    return sentence_bleu([reference], hypothesis, weights=weights)     "
   ]
  },
  {
   "cell_type": "code",
   "execution_count": 18,
   "metadata": {},
   "outputs": [
    {
     "name": "stderr",
     "output_type": "stream",
     "text": [
      "c:\\Python3.10.4\\lib\\site-packages\\nltk\\translate\\bleu_score.py:552: UserWarning: \n",
      "The hypothesis contains 0 counts of 4-gram overlaps.\n",
      "Therefore the BLEU score evaluates to 0, independently of\n",
      "how many N-gram overlaps of lower order it contains.\n",
      "Consider using lower n-gram order or use SmoothingFunction()\n",
      "  warnings.warn(_msg)\n",
      "c:\\Python3.10.4\\lib\\site-packages\\nltk\\translate\\bleu_score.py:552: UserWarning: \n",
      "The hypothesis contains 0 counts of 3-gram overlaps.\n",
      "Therefore the BLEU score evaluates to 0, independently of\n",
      "how many N-gram overlaps of lower order it contains.\n",
      "Consider using lower n-gram order or use SmoothingFunction()\n",
      "  warnings.warn(_msg)\n",
      "c:\\Python3.10.4\\lib\\site-packages\\nltk\\translate\\bleu_score.py:552: UserWarning: \n",
      "The hypothesis contains 0 counts of 2-gram overlaps.\n",
      "Therefore the BLEU score evaluates to 0, independently of\n",
      "how many N-gram overlaps of lower order it contains.\n",
      "Consider using lower n-gram order or use SmoothingFunction()\n",
      "  warnings.warn(_msg)\n",
      "1920it [00:00, 2477.61it/s]\n",
      "6400it [00:01, 3319.80it/s]"
     ]
    },
    {
     "name": "stdout",
     "output_type": "stream",
     "text": [
      "BLEU: 61.188634857771426\n",
      "BLEU: 57.5812916438356\n"
     ]
    },
    {
     "name": "stderr",
     "output_type": "stream",
     "text": [
      "\n"
     ]
    }
   ],
   "source": [
    "score_mrpc = [cal_bleu(pred.decode(), targ.decode(), 1) for pred, targ in tqdm(zip(mrpc_set['sents1'], mrpc_set['sents2']))]\n",
    "score_qq = [cal_bleu(pred.decode(), targ.decode(), 1) for pred, targ in tqdm(zip(qq_set['sents1'], qq_set['sents2']))]\n",
    "\n",
    "print(f\"BLEU: {np.mean(score_mrpc)*100.0}\")\n",
    "print(f\"BLEU: {np.mean(score_qq)*100.0}\")"
   ]
  },
  {
   "cell_type": "code",
   "execution_count": 17,
   "metadata": {},
   "outputs": [
    {
     "name": "stderr",
     "output_type": "stream",
     "text": [
      "1920it [00:03, 599.94it/s] \n",
      "6400it [00:03, 1940.57it/s]"
     ]
    },
    {
     "name": "stdout",
     "output_type": "stream",
     "text": [
      "METEOR: 63.833555798159146\n",
      "METEOR: 61.71024223417819\n"
     ]
    },
    {
     "name": "stderr",
     "output_type": "stream",
     "text": [
      "\n"
     ]
    }
   ],
   "source": [
    "import numpy as np\n",
    "from nltk.translate import meteor\n",
    "\n",
    "def cal_meteor(hypothesis, reference):\n",
    "    hypothesis = hypothesis.strip().split(' ')\n",
    "    reference = reference.strip().split(' ')\n",
    "\n",
    "    return meteor([reference], hypothesis)   \n",
    "\n",
    "score_mrpc = [cal_meteor(pred.decode(), targ.decode()) for pred, targ in tqdm(zip(mrpc_set['sents1'], mrpc_set['sents2']))]\n",
    "score_qq = [cal_meteor(pred.decode(), targ.decode()) for pred, targ in tqdm(zip(qq_set['sents1'], qq_set['sents2']))]\n",
    "\n",
    "print(f\"METEOR: {np.mean(score_mrpc)*100.0}\")\n",
    "print(f\"METEOR: {np.mean(score_qq)*100.0}\")"
   ]
  },
  {
   "cell_type": "code",
   "execution_count": 19,
   "metadata": {},
   "outputs": [
    {
     "name": "stderr",
     "output_type": "stream",
     "text": [
      "1920it [00:01, 1692.71it/s]\n",
      "1920it [00:01, 1679.12it/s]\n",
      "1920it [00:01, 1720.06it/s]"
     ]
    },
    {
     "name": "stdout",
     "output_type": "stream",
     "text": [
      "Rouge-r: 65.96541564074201\n",
      "Rouge-p: 65.68195073004846\n",
      "Rouge-f: 65.23719626911453\n"
     ]
    },
    {
     "name": "stderr",
     "output_type": "stream",
     "text": [
      "\n"
     ]
    }
   ],
   "source": [
    "from rouge import Rouge\n",
    "scorer = Rouge()\n",
    "scoresR = [scorer.get_scores(pred.decode(),refs= targ.decode())[0]['rouge-1']['r'] for pred, targ in tqdm(zip(mrpc_set['sents1'], mrpc_set['sents2']))]\n",
    "scoresP = [scorer.get_scores(pred.decode(),refs= targ.decode())[0]['rouge-1']['p'] for pred, targ in tqdm(zip(mrpc_set['sents1'], mrpc_set['sents2']))]\n",
    "scoresF = [scorer.get_scores(pred.decode(),refs= targ.decode())[0]['rouge-1']['f'] for pred, targ in tqdm(zip(mrpc_set['sents1'], mrpc_set['sents2']))]\n",
    "\n",
    "# # for ind,k in enumerate(scoresโร้ก):\n",
    "print(f\"Rouge-r: {np.mean(scoresR)*100.0}\") \n",
    "print(f\"Rouge-p: {np.mean(scoresP)*100.0}\") \n",
    "print(f\"Rouge-f: {np.mean(scoresF)*100.0}\") "
   ]
  },
  {
   "cell_type": "code",
   "execution_count": 20,
   "metadata": {},
   "outputs": [
    {
     "name": "stderr",
     "output_type": "stream",
     "text": [
      "6400it [00:02, 2888.89it/s]\n",
      "6400it [00:02, 2538.89it/s]\n",
      "6400it [00:02, 2759.41it/s]"
     ]
    },
    {
     "name": "stdout",
     "output_type": "stream",
     "text": [
      "Rouge-r: 66.14407343037708\n",
      "Rouge-p: 66.1146489427023\n",
      "Rouge-f: 65.06561007812036\n"
     ]
    },
    {
     "name": "stderr",
     "output_type": "stream",
     "text": [
      "\n"
     ]
    }
   ],
   "source": [
    "from rouge import Rouge\n",
    "scorer = Rouge()\n",
    "scoresR = [scorer.get_scores(pred.decode(),refs= targ.decode())[0]['rouge-1']['r'] for pred, targ in tqdm(zip(qq_set['sents1'], qq_set['sents2']))]\n",
    "scoresP = [scorer.get_scores(pred.decode(),refs= targ.decode())[0]['rouge-1']['p'] for pred, targ in tqdm(zip(qq_set['sents1'], qq_set['sents2']))]\n",
    "scoresF = [scorer.get_scores(pred.decode(),refs= targ.decode())[0]['rouge-1']['f'] for pred, targ in tqdm(zip(qq_set['sents1'], qq_set['sents2']))]\n",
    "\n",
    "# # for ind,k in enumerate(scoresโร้ก):\n",
    "print(f\"Rouge-r: {np.mean(scoresR)*100.0}\") \n",
    "print(f\"Rouge-p: {np.mean(scoresP)*100.0}\") \n",
    "print(f\"Rouge-f: {np.mean(scoresF)*100.0}\") "
   ]
  },
  {
   "cell_type": "code",
   "execution_count": null,
   "metadata": {},
   "outputs": [],
   "source": []
  }
 ],
 "metadata": {
  "kernelspec": {
   "display_name": "Python 3",
   "language": "python",
   "name": "python3"
  },
  "language_info": {
   "codemirror_mode": {
    "name": "ipython",
    "version": 3
   },
   "file_extension": ".py",
   "mimetype": "text/x-python",
   "name": "python",
   "nbconvert_exporter": "python",
   "pygments_lexer": "ipython3",
   "version": "3.10.4"
  },
  "orig_nbformat": 4
 },
 "nbformat": 4,
 "nbformat_minor": 2
}
