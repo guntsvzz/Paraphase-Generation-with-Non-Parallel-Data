{
 "cells": [
  {
   "cell_type": "code",
   "execution_count": 3,
   "metadata": {},
   "outputs": [],
   "source": [
    "# Dataset download from https://www.cs.cmu.edu/~jwieting/\n",
    "\n",
    "with open(\"/root/projects/NLP_projects/para-nmt-5m-processed.txt\") as file:\n",
    "    lines = file.readlines()"
   ]
  },
  {
   "cell_type": "code",
   "execution_count": 19,
   "metadata": {},
   "outputs": [],
   "source": [
    "raw_sentence = list()\n",
    "for idx, sentence in enumerate(lines):\n",
    "    raw_sentence.append(lines[idx].split(\"\\t\")[0])"
   ]
  },
  {
   "cell_type": "code",
   "execution_count": 43,
   "metadata": {},
   "outputs": [
    {
     "name": "stderr",
     "output_type": "stream",
     "text": [
      "[nltk_data] Downloading package benepar_en3 to /root/nltk_data...\n",
      "[nltk_data]   Package benepar_en3 is already up-to-date!\n"
     ]
    }
   ],
   "source": [
    "import nltk\n",
    "import benepar, spacy\n",
    "\n",
    "benepar.download('benepar_en3')\n",
    "nlp = spacy.load('en_core_web_md')\n",
    "nlp.add_pipe('benepar', config={'model': 'benepar_en3'})\n",
    "\n",
    "def parsing_tree(sentence):\n",
    "\n",
    "    doc = nlp(sentence)\n",
    "    sent = list(doc.sents)[0]\n",
    "    tree = sent._.parse_string\n",
    "\n",
    "    result = \"(ROOT \" + tree + \")\"\n",
    "\n",
    "    return result"
   ]
  },
  {
   "cell_type": "code",
   "execution_count": 49,
   "metadata": {},
   "outputs": [
    {
     "name": "stderr",
     "output_type": "stream",
     "text": [
      "/tmp/ipykernel_1600/1483804567.py:9: TqdmDeprecationWarning: This function will be removed in tqdm==5.0.0\n",
      "Please use `tqdm.notebook.tqdm` instead of `tqdm.tqdm_notebook`\n",
      "  for idx in tqdm_notebook(range(len(lines))):\n"
     ]
    },
    {
     "data": {
      "application/vnd.jupyter.widget-view+json": {
       "model_id": "854bdfd8307541dd8d02d4f0f461d848",
       "version_major": 2,
       "version_minor": 0
      },
      "text/plain": [
       "  0%|          | 0/1000 [00:00<?, ?it/s]"
      ]
     },
     "metadata": {},
     "output_type": "display_data"
    }
   ],
   "source": [
    "# Create dataloader for dataloader\n",
    "from tqdm import tqdm_notebook\n",
    "\n",
    "# Cut data to 1000 sentence\n",
    "lines = raw_sentence[0:1000]\n",
    "\n",
    "train_data = list()\n",
    "\n",
    "for idx in tqdm_notebook(range(len(lines))):\n",
    "    train_data.append([lines[idx], parsing_tree(lines[idx])])"
   ]
  },
  {
   "cell_type": "code",
   "execution_count": 53,
   "metadata": {},
   "outputs": [],
   "source": [
    "from torch.utils.data import DataLoader\n",
    "\n",
    "train_set = train_data[0:800]\n",
    "test_set = train_data[800:]\n",
    "\n",
    "train_dataloader = DataLoader(train_set, batch_size=16, shuffle=True)\n",
    "test_dataloader = DataLoader(test_set, batch_size=16, shuffle=True)"
   ]
  },
  {
   "cell_type": "code",
   "execution_count": 65,
   "metadata": {},
   "outputs": [
    {
     "name": "stdout",
     "output_type": "stream",
     "text": [
      "(\"the secret 's safe .\", \"okay , so if i find someone with better credentials , who does n't look like `` emmie , '' you 'll be just as excited ?\", 'to my eyes , you look nothing like royalty .', 'breathing various concentrations of that .', 'says one of the men originally sent to find it ... on a submarine called the zeus faber .', 'the trumpets of silence .', 'december 12 , 1973 he made out a christmas list the night before ( drunk ) and was now downtown filling an abridged version .', \"`` then i suggest you remove yourself from school property at once , young man , before i call the police . ''\", 'provide the following information', \"we were talking of human sacrifice and she did n't even know it .\", 'thanks to the silly asses of the world ... i can make a fortune .', \"i should 've brought her in sooner ... the first time she threw up .\", 'ah , ah , are you a doctor ?', 'raster type is integer and column type is float', 'put a face on the soldier , and the people care .', \"mom 's been gone for ten years .\")\n",
      "(\"(ROOT (S (NP (DT the) (NN secret)) (VP (VBZ 's) (ADJP (JJ safe))) (. .)))\", '(ROOT (ADJP (JJ okay) (, ,)))', '(ROOT (S (PP (IN to) (NP (PRP$ my) (NNS eyes))) (, ,) (NP (PRP you)) (VP (VBP look) (NP (NP (NN nothing)) (PP (IN like) (NP (NN royalty))))) (. .)))', '(ROOT (S (VBG breathing) (NP (NP (JJ various) (NNS concentrations)) (PP (IN of) (NP (DT that)))) (. .)))', '(ROOT (SINV (VP (VBZ says)) (NP (NP (NP (CD one)) (PP (IN of) (NP (DT the) (NNS men)))) (VP (ADVP (RB originally)) (VBN sent) (S (VP (TO to) (VP (VB find) (NP (PRP it)) (: ...) (PP (IN on) (NP (NP (DT a) (NN submarine)) (VP (VBN called) (S (NP (DT the) (NN zeus) (NN faber))))))))))) (. .)))', '(ROOT (NP (NP (DT the) (NNS trumpets)) (PP (IN of) (NP (NN silence))) (. .)))', '(ROOT (S (NP (NNP december) (CD 12) (, ,) (CD 1973)) (NP (PRP he)) (VP (VP (VBD made) (PRT (RP out)) (NP (DT a) (NN christmas) (NN list)) (NP (NP (NP (DT the) (NN night)) (RB before)) (-LRB- -LRB-) (S (ADJP (JJ drunk))) (-RRB- -RRB-))) (CC and) (VP (VBD was) (ADVP (RB now)) (ADVP (NN downtown)) (VP (VBG filling) (NP (DT an) (JJ abridged) (NN version))))) (. .)))', \"(ROOT (S (-LRB- `) ('' `) (ADVP (RB then)) (NP (PRP i)) (VP (VBP suggest) (NP (PRP you)) (VP (VBP remove) (NP (PRP yourself)) (PP (IN from) (NP (NN school) (NN property))) (ADVP (IN at) (RB once)) (, ,) (NP (JJ young) (NN man)) (, ,) (SBAR (IN before) (S (NP (PRP i)) (VP (VBP call) (NP (DT the) (NNS police))))))) (. .) ('' '')))\", '(ROOT (S (VP (VB provide) (NP (DT the) (JJ following) (NN information)))))', \"(ROOT (S (S (NP (PRP we)) (VP (VBD were) (VP (VBG talking) (PP (IN of) (NP (JJ human) (NN sacrifice)))))) (CC and) (S (NP (PRP she)) (VP (VBD did) (RB n't) (ADVP (RB even)) (VP (VB know) (NP (PRP it))))) (. .)))\", '(ROOT (NP (NP (NNS thanks)) (PP (IN to) (NP (NP (DT the) (JJ silly) (NNS asses)) (PP (IN of) (NP (DT the) (NN world))))) (: ...)))', \"(ROOT (S (NP (PRP i)) (VP (MD should) (`` ') (VP (VB ve) (VP (VBN brought) (NP (PRP her)) (PRT (RP in)) (ADVP (RB sooner))))) (: ...)))\", '(ROOT (SQ (INTJ (UH ah)) (, ,) (INTJ (UH ah)) (, ,) (VBP are) (NP (PRP you)) (NP (DT a) (NN doctor)) (. ?)))', '(ROOT (S (S (NP (NN raster) (NN type)) (VP (VBZ is) (NP (NN integer)))) (CC and) (S (NP (NN column) (NN type)) (VP (VBZ is) (NP (NN float))))))', '(ROOT (S (S (VP (VB put) (NP (DT a) (NN face)) (PP (IN on) (NP (DT the) (NN soldier))))) (, ,) (CC and) (S (NP (DT the) (NNS people)) (VP (VBP care))) (. .)))', \"(ROOT (S (NP (NN mom)) (VP (VBZ 's) (VP (VBN been) (ADJP (VBN gone)) (PP (IN for) (NP (CD ten) (NNS years))))) (. .)))\")\n"
     ]
    }
   ],
   "source": [
    "for sentence, tree in train_dataloader:\n",
    "    print(sentence)\n",
    "    print(tree)\n",
    "    break"
   ]
  },
  {
   "cell_type": "code",
   "execution_count": 66,
   "metadata": {},
   "outputs": [
    {
     "data": {
      "text/plain": [
       "(\"the secret 's safe .\",\n",
       " \"okay , so if i find someone with better credentials , who does n't look like `` emmie , '' you 'll be just as excited ?\",\n",
       " 'to my eyes , you look nothing like royalty .',\n",
       " 'breathing various concentrations of that .',\n",
       " 'says one of the men originally sent to find it ... on a submarine called the zeus faber .',\n",
       " 'the trumpets of silence .',\n",
       " 'december 12 , 1973 he made out a christmas list the night before ( drunk ) and was now downtown filling an abridged version .',\n",
       " \"`` then i suggest you remove yourself from school property at once , young man , before i call the police . ''\",\n",
       " 'provide the following information',\n",
       " \"we were talking of human sacrifice and she did n't even know it .\",\n",
       " 'thanks to the silly asses of the world ... i can make a fortune .',\n",
       " \"i should 've brought her in sooner ... the first time she threw up .\",\n",
       " 'ah , ah , are you a doctor ?',\n",
       " 'raster type is integer and column type is float',\n",
       " 'put a face on the soldier , and the people care .',\n",
       " \"mom 's been gone for ten years .\")"
      ]
     },
     "execution_count": 66,
     "metadata": {},
     "output_type": "execute_result"
    }
   ],
   "source": [
    "sentence"
   ]
  }
 ],
 "metadata": {
  "kernelspec": {
   "display_name": "Python 3",
   "language": "python",
   "name": "python3"
  },
  "language_info": {
   "codemirror_mode": {
    "name": "ipython",
    "version": 3
   },
   "file_extension": ".py",
   "mimetype": "text/x-python",
   "name": "python",
   "nbconvert_exporter": "python",
   "pygments_lexer": "ipython3",
   "version": "3.10.6"
  },
  "orig_nbformat": 4
 },
 "nbformat": 4,
 "nbformat_minor": 2
}
