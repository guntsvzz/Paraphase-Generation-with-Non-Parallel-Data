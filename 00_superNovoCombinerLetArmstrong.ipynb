{
 "cells": [
  {
   "cell_type": "code",
   "execution_count": 18,
   "metadata": {},
   "outputs": [],
   "source": [
    "import numpy as np\n",
    "\n",
    "# a = np.ones((1000000, 3))\n",
    "# b = np.arange(1, 1000001)\n",
    "\n",
    "# a = np.column_stack((a, b))\n",
    "\n",
    "def aryCbr(obj1,obj2,islist,returnlist = True):\n",
    "    assert obj1 != obj2, 'len is not equal'\n",
    "    if islist:\n",
    "        obj1,obj2 = np.array(obj1),np.array(obj2) \n",
    "    return np.column_stack((obj1, obj2)).tolist() if returnlist else np.column_stack((obj1, obj2))"
   ]
  },
  {
   "cell_type": "code",
   "execution_count": 19,
   "metadata": {},
   "outputs": [
    {
     "data": {
      "text/plain": [
       "array([[1, 2, 3, 1],\n",
       "       [1, 2, 3, 2],\n",
       "       [1, 2, 3, 3],\n",
       "       [1, 2, 3, 4],\n",
       "       [1, 2, 3, 5],\n",
       "       [1, 2, 3, 6],\n",
       "       [1, 2, 3, 7],\n",
       "       [1, 2, 3, 8]])"
      ]
     },
     "execution_count": 19,
     "metadata": {},
     "output_type": "execute_result"
    }
   ],
   "source": [
    "a = [[1,2,3],[1,2,3],[1,2,3],[1,2,3],[1,2,3],[1,2,3],[1,2,3],[1,2,3]]\n",
    "b = [1,2,3,4,5,6,7,8]\n",
    "\n",
    "aryCbr(a,b,True,False)"
   ]
  },
  {
   "cell_type": "code",
   "execution_count": null,
   "metadata": {},
   "outputs": [],
   "source": []
  }
 ],
 "metadata": {
  "kernelspec": {
   "display_name": "Python 3",
   "language": "python",
   "name": "python3"
  },
  "language_info": {
   "codemirror_mode": {
    "name": "ipython",
    "version": 3
   },
   "file_extension": ".py",
   "mimetype": "text/x-python",
   "name": "python",
   "nbconvert_exporter": "python",
   "pygments_lexer": "ipython3",
   "version": "3.8.10"
  },
  "orig_nbformat": 4
 },
 "nbformat": 4,
 "nbformat_minor": 2
}
